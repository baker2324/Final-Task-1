{
 "cells": [
  {
   "cell_type": "code",
   "execution_count": 1,
   "id": "a0eae888-3711-4667-a533-f777c4e953bd",
   "metadata": {},
   "outputs": [
    {
     "name": "stdout",
     "output_type": "stream",
     "text": [
      "Step 1 Done\n"
     ]
    }
   ],
   "source": [
    "#Step 1: Import Libs.\n",
    "import pandas as pd\n",
    "import datetime\n",
    "print('Step 1 Done')"
   ]
  },
  {
   "cell_type": "code",
   "execution_count": 2,
   "id": "16066ccc-237c-4fce-ac8b-e77795dd3291",
   "metadata": {},
   "outputs": [
    {
     "name": "stdout",
     "output_type": "stream",
     "text": [
      "<class 'pandas.core.frame.DataFrame'>\n",
      "RangeIndex: 1000 entries, 0 to 999\n",
      "Data columns (total 14 columns):\n",
      " #   Column         Non-Null Count  Dtype  \n",
      "---  ------         --------------  -----  \n",
      " 0   EEID           1000 non-null   object \n",
      " 1   Full Name      998 non-null    object \n",
      " 2   Job Title      999 non-null    object \n",
      " 3   Department     998 non-null    object \n",
      " 4   Business Unit  1000 non-null   object \n",
      " 5   Gender         999 non-null    object \n",
      " 6   Ethnicity      993 non-null    object \n",
      " 7   Age            994 non-null    float64\n",
      " 8   Hire Date      993 non-null    object \n",
      " 9   Annual Salary  989 non-null    object \n",
      " 10  Bonus %        992 non-null    object \n",
      " 11  Country        998 non-null    object \n",
      " 12  City           998 non-null    object \n",
      " 13  Exit Date      85 non-null     object \n",
      "dtypes: float64(1), object(13)\n",
      "memory usage: 109.5+ KB\n",
      "None\n"
     ]
    }
   ],
   "source": [
    "#Step 2: Define Dataset.\n",
    "dataset = pd.read_csv('C:\\\\Users\\\\hp.DESKTOP-FHME33G\\\\Desktop\\\\Employee Sample Data - A.CSV', encoding='latin1')\n",
    "print(dataset.info())"
   ]
  },
  {
   "cell_type": "code",
   "execution_count": 3,
   "id": "2c598fbb-5b04-4f65-8895-f48489b08e64",
   "metadata": {},
   "outputs": [
    {
     "name": "stdout",
     "output_type": "stream",
     "text": [
      "     EEID        Full Name                 Job Title Department  \\\n",
      "0  E02387      Emily Davis                Sr. Manger         IT   \n",
      "1  E04105    Theodore Dinh       Technical Architect         IT   \n",
      "2  E02572     Luna Sanders                  Director    Finance   \n",
      "3  E02832  Penelope Jordan  Computer Systems Manager         IT   \n",
      "4  E01639        Austin Vo               Sr. Analyst    Finance   \n",
      "\n",
      "            Business Unit  Gender  Ethnicity   Age   Hire Date Annual Salary  \\\n",
      "0  Research & Development  Female      Black  55.0    4/8/2016     $141,604    \n",
      "1           Manufacturing    Male      Asian  59.0  11/29/1997      $99,975    \n",
      "2     Speciality Products  Female  Caucasian  50.0  10/26/2006     $163,099    \n",
      "3           Manufacturing  Female  Caucasian  26.0   9/27/2019      $84,913    \n",
      "4           Manufacturing    Male      Asian  55.0  11/20/1995      $95,409    \n",
      "\n",
      "  Bonus %        Country       City   Exit Date  \n",
      "0    15%   United States    Seattle  10/16/2021  \n",
      "1     0%           China  Chongqing         NaN  \n",
      "2    20%   United States    Chicago         NaN  \n",
      "3     7%   United States    Chicago         NaN  \n",
      "4     0%   United States    Phoenix         NaN  \n"
     ]
    }
   ],
   "source": [
    "#Step 3: Display Dataset.\n",
    "pd.options.display.max_rows = 1000\n",
    "print(dataset.head()) #Display the first five rows."
   ]
  },
  {
   "cell_type": "code",
   "execution_count": 4,
   "id": "bdda7fe1-81b1-4ced-bf24-131643fa0fb6",
   "metadata": {},
   "outputs": [
    {
     "name": "stdout",
     "output_type": "stream",
     "text": [
      "Define New Variable for Cleaning and For Back Up\n"
     ]
    }
   ],
   "source": [
    "#Step 4: Start with cleaning Data.\n",
    "dataset_clean = dataset.copy()\n",
    "dsc = dataset_clean\n",
    "print('Define New Variable for Cleaning and For Back Up')"
   ]
  },
  {
   "cell_type": "code",
   "execution_count": 5,
   "id": "fe19a54a-a1f0-4289-8ec8-2f7334f97fd3",
   "metadata": {},
   "outputs": [
    {
     "name": "stdout",
     "output_type": "stream",
     "text": [
      "There are no duplicate values.\n"
     ]
    }
   ],
   "source": [
    "#Step 4.1: See if there Duplicate Values.\n",
    "# If no duplicates are found, print a message indicating no duplicates\n",
    "\n",
    "duplicates = dsc.duplicated()\n",
    "if not duplicates.any():\n",
    "    print(\"There are no duplicate values.\")\n",
    "else:\n",
    "    print(duplicates)"
   ]
  },
  {
   "cell_type": "code",
   "execution_count": 6,
   "id": "cd9f8069-aac8-41fb-8c8a-340e8fdc5db3",
   "metadata": {},
   "outputs": [
    {
     "name": "stdout",
     "output_type": "stream",
     "text": [
      "<class 'pandas.core.frame.DataFrame'>\n",
      "Index: 988 entries, 0 to 999\n",
      "Data columns (total 14 columns):\n",
      " #   Column         Non-Null Count  Dtype  \n",
      "---  ------         --------------  -----  \n",
      " 0   EEID           988 non-null    object \n",
      " 1   Full Name      988 non-null    object \n",
      " 2   Job Title      988 non-null    object \n",
      " 3   Department     988 non-null    object \n",
      " 4   Business Unit  988 non-null    object \n",
      " 5   Gender         988 non-null    object \n",
      " 6   Ethnicity      986 non-null    object \n",
      " 7   Age            987 non-null    float64\n",
      " 8   Hire Date      988 non-null    object \n",
      " 9   Annual Salary  984 non-null    object \n",
      " 10  Bonus %        987 non-null    object \n",
      " 11  Country        988 non-null    object \n",
      " 12  City           988 non-null    object \n",
      " 13  Exit Date      84 non-null     object \n",
      "dtypes: float64(1), object(13)\n",
      "memory usage: 115.8+ KB\n",
      "None\n"
     ]
    }
   ],
   "source": [
    "#Step 4.2: Deal with Empty Values.\n",
    "#First of all, we need to display the Empty Values.\n",
    "#Note we can replacde the Department with (Not Mention in the data).\n",
    "dsc.dropna(subset=['Full Name'], inplace= True) #who is the employee?\n",
    "dsc.dropna(subset=['Job Title'], inplace= True) # What is he work?\n",
    "dsc.dropna(subset=['Department'], inplace= True) # Because it 2 rows and will not effect on analysis + no default value.\n",
    "dsc.dropna(subset=['Hire Date'], inplace= True) # Because most of the information are lost.\n",
    "print(dsc.info())"
   ]
  },
  {
   "cell_type": "code",
   "execution_count": 7,
   "id": "7a868fc5-cc43-45ec-97ca-5ae830cbd2ef",
   "metadata": {},
   "outputs": [
    {
     "name": "stdout",
     "output_type": "stream",
     "text": [
      "['United States' 'China' 'Brazil']\n",
      "['Black' 'Asian' 'Caucasian' nan 'Latino']\n"
     ]
    }
   ],
   "source": [
    "#Second Step replace with Values:\n",
    "#Column 6: Ethnicity.\n",
    "\n",
    "#First define the county:\n",
    "print(dsc['Country'].unique())\n",
    "\n",
    "#Second define the Ethincity.\n",
    "print(dsc['Ethnicity'].unique())\n"
   ]
  },
  {
   "cell_type": "code",
   "execution_count": 8,
   "id": "ecfcd14b-3cae-42e8-8d01-bf530d460368",
   "metadata": {},
   "outputs": [
    {
     "name": "stdout",
     "output_type": "stream",
     "text": [
      "<class 'pandas.core.frame.DataFrame'>\n",
      "Index: 988 entries, 0 to 999\n",
      "Data columns (total 14 columns):\n",
      " #   Column         Non-Null Count  Dtype  \n",
      "---  ------         --------------  -----  \n",
      " 0   EEID           988 non-null    object \n",
      " 1   Full Name      988 non-null    object \n",
      " 2   Job Title      988 non-null    object \n",
      " 3   Department     988 non-null    object \n",
      " 4   Business Unit  988 non-null    object \n",
      " 5   Gender         988 non-null    object \n",
      " 6   Ethnicity      988 non-null    object \n",
      " 7   Age            987 non-null    float64\n",
      " 8   Hire Date      988 non-null    object \n",
      " 9   Annual Salary  984 non-null    object \n",
      " 10  Bonus %        987 non-null    object \n",
      " 11  Country        988 non-null    object \n",
      " 12  City           988 non-null    object \n",
      " 13  Exit Date      84 non-null     object \n",
      "dtypes: float64(1), object(13)\n",
      "memory usage: 115.8+ KB\n",
      "None\n"
     ]
    }
   ],
   "source": [
    "#Based On this we decide the default value:\n",
    "country_ethnicity_mapping = {\n",
    "    'United States': 'Caucasian',\n",
    "    'China': 'Asian',\n",
    "    'Brazil': 'Latino',\n",
    "}\n",
    "\n",
    "# Function to replace missing ethnicity based on country\n",
    "def map_ethnicity(row):\n",
    "    if pd.isnull(row['Ethnicity']) and row['Country'] in country_ethnicity_mapping:\n",
    "        return country_ethnicity_mapping[row['Country']]\n",
    "    else:\n",
    "        return row['Ethnicity']\n",
    "\n",
    "dsc['Ethnicity'] = dsc.apply(map_ethnicity, axis=1)\n",
    "print(dsc.info())"
   ]
  },
  {
   "cell_type": "code",
   "execution_count": 9,
   "id": "3a94ecbe-bd57-4470-b30c-595d9f0b6da7",
   "metadata": {},
   "outputs": [
    {
     "name": "stdout",
     "output_type": "stream",
     "text": [
      "<class 'pandas.core.frame.DataFrame'>\n",
      "Index: 988 entries, 0 to 999\n",
      "Data columns (total 14 columns):\n",
      " #   Column         Non-Null Count  Dtype  \n",
      "---  ------         --------------  -----  \n",
      " 0   EEID           988 non-null    object \n",
      " 1   Full Name      988 non-null    object \n",
      " 2   Job Title      988 non-null    object \n",
      " 3   Department     988 non-null    object \n",
      " 4   Business Unit  988 non-null    object \n",
      " 5   Gender         988 non-null    object \n",
      " 6   Ethnicity      988 non-null    object \n",
      " 7   Age            988 non-null    float64\n",
      " 8   Hire Date      988 non-null    object \n",
      " 9   Annual Salary  984 non-null    object \n",
      " 10  Bonus %        987 non-null    object \n",
      " 11  Country        988 non-null    object \n",
      " 12  City           988 non-null    object \n",
      " 13  Exit Date      84 non-null     object \n",
      "dtypes: float64(1), object(13)\n",
      "memory usage: 115.8+ KB\n",
      "None\n",
      "\n",
      " The median value is 45.0\n"
     ]
    }
   ],
   "source": [
    "#Column 7: Age, replace with median.\n",
    "x = dsc[\"Age\"].median()\n",
    "dsc[\"Age\"] = dsc[\"Age\"].fillna(x)\n",
    "print(dsc.info())\n",
    "print()\n",
    "print(f' The median value is {x}')"
   ]
  },
  {
   "cell_type": "code",
   "execution_count": 10,
   "id": "1f6e842e-cd86-46f7-a8ac-f69e84c26976",
   "metadata": {},
   "outputs": [
    {
     "name": "stdout",
     "output_type": "stream",
     "text": [
      "Mean of Annual Salary: 113326.7\n",
      "<class 'pandas.core.frame.DataFrame'>\n",
      "Index: 988 entries, 0 to 999\n",
      "Data columns (total 14 columns):\n",
      " #   Column         Non-Null Count  Dtype  \n",
      "---  ------         --------------  -----  \n",
      " 0   EEID           988 non-null    object \n",
      " 1   Full Name      988 non-null    object \n",
      " 2   Job Title      988 non-null    object \n",
      " 3   Department     988 non-null    object \n",
      " 4   Business Unit  988 non-null    object \n",
      " 5   Gender         988 non-null    object \n",
      " 6   Ethnicity      988 non-null    object \n",
      " 7   Age            988 non-null    float64\n",
      " 8   Hire Date      988 non-null    object \n",
      " 9   Annual Salary  988 non-null    float64\n",
      " 10  Bonus %        987 non-null    object \n",
      " 11  Country        988 non-null    object \n",
      " 12  City           988 non-null    object \n",
      " 13  Exit Date      84 non-null     object \n",
      "dtypes: float64(2), object(12)\n",
      "memory usage: 115.8+ KB\n",
      "None\n",
      "0    141604.0\n",
      "1     99975.0\n",
      "2    163099.0\n",
      "3     84913.0\n",
      "4     95409.0\n",
      "Name: Annual Salary, dtype: float64\n"
     ]
    }
   ],
   "source": [
    "#Coloumn 9: Annual Salary.\n",
    "\n",
    "#Because Annual Salary must be in type float but because it is object we should do these steps:\n",
    "# Strip:\n",
    "dsc['Annual Salary'] = dsc['Annual Salary'].str.strip()\n",
    "\n",
    "# Remove the dollar sign '$' and commas ',' using regex:\n",
    "dsc['Annual Salary'] = dsc['Annual Salary'].replace({'\\\\$': '', ',': ''}, regex=True)\n",
    "\n",
    "# Convert the column to be float:\n",
    "dsc['Annual Salary'] = pd.to_numeric(dsc['Annual Salary'], errors='coerce')\n",
    "\n",
    "# Find the mean:\n",
    "x = dsc['Annual Salary'].mean().round(2)\n",
    "\n",
    "# Fill NaN values with the calculated mean\n",
    "dsc['Annual Salary'] = dsc['Annual Salary'].fillna(x)\n",
    "\n",
    "print(f'Mean of Annual Salary: {x}')\n",
    "\n",
    "# Final check on the dataframe info\n",
    "print(dsc.info())\n",
    "\n",
    "#print head to check it work:\n",
    "print(dsc['Annual Salary'].head())\n",
    "\n",
    "#Note if We want to be more accurate, we need to groub each employee based on department and take the meean of each department.\n",
    "#But for Simplcity, we take the mean for the whole Employee."
   ]
  },
  {
   "cell_type": "code",
   "execution_count": 11,
   "id": "2a6fda4c-2c2b-4728-8b46-15d923f45947",
   "metadata": {},
   "outputs": [
    {
     "name": "stdout",
     "output_type": "stream",
     "text": [
      "<class 'pandas.core.frame.DataFrame'>\n",
      "Index: 988 entries, 0 to 999\n",
      "Data columns (total 14 columns):\n",
      " #   Column         Non-Null Count  Dtype  \n",
      "---  ------         --------------  -----  \n",
      " 0   EEID           988 non-null    object \n",
      " 1   Full Name      988 non-null    object \n",
      " 2   Job Title      988 non-null    object \n",
      " 3   Department     988 non-null    object \n",
      " 4   Business Unit  988 non-null    object \n",
      " 5   Gender         988 non-null    object \n",
      " 6   Ethnicity      988 non-null    object \n",
      " 7   Age            988 non-null    float64\n",
      " 8   Hire Date      988 non-null    object \n",
      " 9   Annual Salary  988 non-null    float64\n",
      " 10  Bonus %        988 non-null    object \n",
      " 11  Country        988 non-null    object \n",
      " 12  City           988 non-null    object \n",
      " 13  Exit Date      84 non-null     object \n",
      "dtypes: float64(2), object(12)\n",
      "memory usage: 115.8+ KB\n",
      "None\n"
     ]
    }
   ],
   "source": [
    "dsc[\"Bonus %\"] = dsc[\"Bonus %\"].fillna('0%') #Because 0% is the default.\n",
    "print(dsc.info())"
   ]
  },
  {
   "cell_type": "code",
   "execution_count": 12,
   "id": "be618506-1fa5-49e9-b7e3-b96566fcef02",
   "metadata": {},
   "outputs": [
    {
     "name": "stdout",
     "output_type": "stream",
     "text": [
      "<class 'pandas.core.frame.DataFrame'>\n",
      "Index: 988 entries, 0 to 999\n",
      "Data columns (total 14 columns):\n",
      " #   Column         Non-Null Count  Dtype  \n",
      "---  ------         --------------  -----  \n",
      " 0   EEID           988 non-null    object \n",
      " 1   Full Name      988 non-null    object \n",
      " 2   Job Title      988 non-null    object \n",
      " 3   Department     988 non-null    object \n",
      " 4   Business Unit  988 non-null    object \n",
      " 5   Gender         988 non-null    object \n",
      " 6   Ethnicity      988 non-null    object \n",
      " 7   Age            988 non-null    float64\n",
      " 8   Hire Date      988 non-null    object \n",
      " 9   Annual Salary  988 non-null    float64\n",
      " 10  Bonus %        988 non-null    object \n",
      " 11  Country        988 non-null    object \n",
      " 12  City           988 non-null    object \n",
      " 13  Exit Date      988 non-null    object \n",
      "dtypes: float64(2), object(12)\n",
      "memory usage: 115.8+ KB\n",
      "None\n",
      "\n",
      "0       10/16/2021\n",
      "1    Still Working\n",
      "2    Still Working\n",
      "3    Still Working\n",
      "4    Still Working\n",
      "Name: Exit Date, dtype: object\n"
     ]
    }
   ],
   "source": [
    "dsc[\"Exit Date\"] = dsc[\"Exit Date\"].fillna('Still Working') #Assume that the Employee is working until today.\n",
    "print(dsc.info())\n",
    "print()\n",
    "print(dsc['Exit Date'].head())"
   ]
  },
  {
   "cell_type": "code",
   "execution_count": 13,
   "id": "fd9bb4a1-b915-4e05-b79d-4743a3dd0aa2",
   "metadata": {},
   "outputs": [
    {
     "name": "stdout",
     "output_type": "stream",
     "text": [
      "Column: EEID\n",
      "EEID\n",
      "E04972    3\n",
      "E00276    3\n",
      "E01499    3\n",
      "E03349    3\n",
      "E00717    3\n",
      "Name: count, dtype: int64\n",
      "----------------------------------------\n",
      "Column: Full Name\n",
      "Full Name\n",
      "Ezra Simmons     2\n",
      "Everly Walker    2\n",
      "Hailey Lai       2\n",
      "Rylee Yu         2\n",
      "Miles Mehta      2\n",
      "Name: count, dtype: int64\n",
      "----------------------------------------\n",
      "Column: Job Title\n",
      "Job Title\n",
      "Director          119\n",
      "Sr. Manger        109\n",
      "Vice President    104\n",
      "Manager            98\n",
      "Sr. Analyst        69\n",
      "Name: count, dtype: int64\n",
      "----------------------------------------\n",
      "Column: Department\n",
      "Department\n",
      "IT                 235\n",
      "Engineering        156\n",
      "Sales              139\n",
      "Human Resources    123\n",
      "Marketing          120\n",
      "Name: count, dtype: int64\n",
      "----------------------------------------\n",
      "Column: Business Unit\n",
      "Business Unit\n",
      "Manufacturing             264\n",
      "Speciality Products       263\n",
      "Corporate                 234\n",
      "Research & Development    227\n",
      "Name: count, dtype: int64\n",
      "----------------------------------------\n",
      "Column: Gender\n",
      "Gender\n",
      "Female    513\n",
      "Male      475\n",
      "Name: count, dtype: int64\n",
      "----------------------------------------\n",
      "Column: Ethnicity\n",
      "Ethnicity\n",
      "Asian        402\n",
      "Caucasian    264\n",
      "Latino       249\n",
      "Black         73\n",
      "Name: count, dtype: int64\n",
      "----------------------------------------\n",
      "Column: Age\n",
      "Age\n",
      "45.0    72\n",
      "55.0    49\n",
      "48.0    31\n",
      "36.0    30\n",
      "52.0    30\n",
      "Name: count, dtype: int64\n",
      "----------------------------------------\n",
      "Column: Hire Date\n",
      "Hire Date\n",
      "10/20/2011    3\n",
      "11/29/2010    3\n",
      "4/17/2021     2\n",
      "10/23/2009    2\n",
      "3/18/2019     2\n",
      "Name: count, dtype: int64\n",
      "----------------------------------------\n",
      "Column: Annual Salary\n",
      "Annual Salary\n",
      "113326.7    4\n",
      "146140.0    2\n",
      "157057.0    2\n",
      "70165.0     2\n",
      "177443.0    2\n",
      "Name: count, dtype: int64\n",
      "----------------------------------------\n",
      "Column: Bonus %\n",
      "Bonus %\n",
      "0%      517\n",
      "10%      34\n",
      "15%      33\n",
      "7%       26\n",
      "12%      25\n",
      "Name: count, dtype: int64\n",
      "----------------------------------------\n",
      "Column: Country\n",
      "Country\n",
      "United States    633\n",
      "China            217\n",
      "Brazil           138\n",
      "Name: count, dtype: int64\n",
      "----------------------------------------\n",
      "Column: City\n",
      "City\n",
      "Seattle     118\n",
      "Columbus    110\n",
      "Miami       108\n",
      "Phoenix     107\n",
      "Austin       99\n",
      "Name: count, dtype: int64\n",
      "----------------------------------------\n",
      "Column: Exit Date\n",
      "Exit Date\n",
      "Still Working    904\n",
      "7/17/2020          2\n",
      "5/20/2021          1\n",
      "10/16/2021         1\n",
      "3/9/2020           1\n",
      "Name: count, dtype: int64\n",
      "----------------------------------------\n"
     ]
    }
   ],
   "source": [
    "#Step 4.3: Check the Wrong Formate.\n",
    "for column in dsc.columns:\n",
    "    print(f\"Column: {column}\")\n",
    "    print(dsc[column].value_counts().head())  # Shows unique values and their counts\n",
    "    print(\"-\" * 40) #Note we Make head to less display + If we want to see all values remove (head) function."
   ]
  },
  {
   "cell_type": "code",
   "execution_count": 14,
   "id": "a7bea01d-2d2f-4958-a647-19399ccae4de",
   "metadata": {},
   "outputs": [
    {
     "name": "stdout",
     "output_type": "stream",
     "text": [
      "<class 'pandas.core.frame.DataFrame'>\n",
      "Index: 988 entries, 0 to 999\n",
      "Data columns (total 14 columns):\n",
      " #   Column         Non-Null Count  Dtype  \n",
      "---  ------         --------------  -----  \n",
      " 0   EEID           988 non-null    object \n",
      " 1   Full Name      988 non-null    object \n",
      " 2   Job Title      988 non-null    object \n",
      " 3   Department     988 non-null    object \n",
      " 4   Business Unit  988 non-null    object \n",
      " 5   Gender         988 non-null    object \n",
      " 6   Ethnicity      988 non-null    object \n",
      " 7   Age            988 non-null    float64\n",
      " 8   Hire Date      988 non-null    object \n",
      " 9   Annual Salary  988 non-null    float64\n",
      " 10  Bonus %        988 non-null    object \n",
      " 11  Country        988 non-null    object \n",
      " 12  City           988 non-null    object \n",
      " 13  Exit Date      988 non-null    object \n",
      "dtypes: float64(2), object(12)\n",
      "memory usage: 115.8+ KB\n",
      "None\n",
      "\n",
      "0    2016-04-08\n",
      "1    1997-11-29\n",
      "2    2006-10-26\n",
      "3    2019-09-27\n",
      "4    1995-11-20\n",
      "Name: Hire Date, dtype: object\n"
     ]
    }
   ],
   "source": [
    "#Based on This, We need to change Hire and Exit Date to date Formate.\n",
    "\n",
    "#Hire Date:\n",
    "dsc['Hire Date'] = pd.to_datetime(dsc['Hire Date']).dt.date\n",
    "print(dsc.info())\n",
    "print()\n",
    "print(dsc['Hire Date'].head())"
   ]
  },
  {
   "cell_type": "code",
   "execution_count": 15,
   "id": "62b381c3-dd8c-46c3-a043-fefe6afd984f",
   "metadata": {},
   "outputs": [
    {
     "name": "stdout",
     "output_type": "stream",
     "text": [
      "<class 'pandas.core.frame.DataFrame'>\n",
      "Index: 988 entries, 0 to 999\n",
      "Data columns (total 14 columns):\n",
      " #   Column         Non-Null Count  Dtype  \n",
      "---  ------         --------------  -----  \n",
      " 0   EEID           988 non-null    object \n",
      " 1   Full Name      988 non-null    object \n",
      " 2   Job Title      988 non-null    object \n",
      " 3   Department     988 non-null    object \n",
      " 4   Business Unit  988 non-null    object \n",
      " 5   Gender         988 non-null    object \n",
      " 6   Ethnicity      988 non-null    object \n",
      " 7   Age            988 non-null    float64\n",
      " 8   Hire Date      988 non-null    object \n",
      " 9   Annual Salary  988 non-null    float64\n",
      " 10  Bonus %        988 non-null    object \n",
      " 11  Country        988 non-null    object \n",
      " 12  City           988 non-null    object \n",
      " 13  Exit Date      988 non-null    object \n",
      "dtypes: float64(2), object(12)\n",
      "memory usage: 115.8+ KB\n",
      "None\n",
      "\n",
      "0       2021-10-16\n",
      "1    Still Working\n",
      "2    Still Working\n",
      "3    Still Working\n",
      "4    Still Working\n",
      "Name: Exit Date, dtype: object\n",
      "0    2016-04-08\n",
      "1    1997-11-29\n",
      "2    2006-10-26\n",
      "3    2019-09-27\n",
      "4    1995-11-20\n",
      "Name: Hire Date, dtype: object\n"
     ]
    }
   ],
   "source": [
    "#Exit Date:\n",
    "#Exit Date has value still working we need to deal with it:\n",
    "dsc['Exit Date'] = dsc['Exit Date'].apply(lambda x: pd.NaT if pd.isna(x) else x)\n",
    "dsc['Exit Date'] = dsc['Exit Date'].apply(lambda x: x if x == \"Still Working\" else pd.to_datetime(x, errors='coerce').date())\n",
    "\n",
    "\n",
    "print(dsc.info())\n",
    "print()\n",
    "print(dsc['Exit Date'].head())\n",
    "print(dsc['Hire Date'].head())"
   ]
  },
  {
   "cell_type": "code",
   "execution_count": 16,
   "id": "fb017812-dc8b-45d0-949d-4a3a9f4dfd11",
   "metadata": {},
   "outputs": [
    {
     "name": "stdout",
     "output_type": "stream",
     "text": [
      "The Wrong Values are in EEID and Age\n"
     ]
    }
   ],
   "source": [
    "#Step 4.4 Wrong Vlaues:\n",
    "\n",
    "#Based on dataset the Wrong Value: EEID, Age. \n",
    "#We need to check if date are vaild on Exit Date and Hire date.\n",
    "#We need check if Exit Date is after Hire Date.\n",
    "\n",
    "print('The Wrong Values are in EEID and Age')"
   ]
  },
  {
   "cell_type": "code",
   "execution_count": 17,
   "id": "78dd9791-815d-4b76-bd14-c42b410c65f0",
   "metadata": {},
   "outputs": [
    {
     "name": "stdout",
     "output_type": "stream",
     "text": [
      "All 'Hire Date' values are valid.\n",
      "0    2016-04-08\n",
      "1    1997-11-29\n",
      "2    2006-10-26\n",
      "3    2019-09-27\n",
      "4    1995-11-20\n",
      "Name: Hire Date, dtype: object\n"
     ]
    }
   ],
   "source": [
    "#Check if Hire Date is Vaild Date.\n",
    "\n",
    "def check_hire_date_validity(df):\n",
    "    invalid_rows = []\n",
    "\n",
    "    for index, value in df['Hire Date'].items():\n",
    "        try:\n",
    "            # Try to parse the date (change the format if needed)\n",
    "            pd.to_datetime(value, errors='raise')\n",
    "        except Exception:\n",
    "            invalid_rows.append(index)\n",
    "\n",
    "    if invalid_rows:\n",
    "        print(\"Invalid 'Hire Date' found in the following row(s):\")\n",
    "        for row in invalid_rows:\n",
    "            print(f\"Row {row}: {df.loc[row, 'Hire Date']}\")\n",
    "    else:\n",
    "        print(\"All 'Hire Date' values are valid.\")\n",
    "\n",
    "check_hire_date_validity(dsc)\n",
    "print(dsc['Hire Date'].head())"
   ]
  },
  {
   "cell_type": "code",
   "execution_count": 18,
   "id": "df409ec3-a891-47c6-8d2e-a1d8e6bafe29",
   "metadata": {},
   "outputs": [
    {
     "name": "stdout",
     "output_type": "stream",
     "text": [
      "All 'Exit Date' values are valid (including 'Still Working').\n",
      "0       2021-10-16\n",
      "1    Still Working\n",
      "2    Still Working\n",
      "3    Still Working\n",
      "4    Still Working\n",
      "Name: Exit Date, dtype: object\n"
     ]
    }
   ],
   "source": [
    "# Check if Exit Date is Valid Date \n",
    "\n",
    "def check_exit_date_validity(df):\n",
    "    invalid_rows = []\n",
    "\n",
    "    for index, value in df['Exit Date'].items():\n",
    "        # Skip validation if the person is still working\n",
    "        if isinstance(value, str) and value.strip().lower() == \"still working\":\n",
    "            continue\n",
    "        try:\n",
    "            pd.to_datetime(value, errors='raise')\n",
    "        except Exception:\n",
    "            invalid_rows.append(index)\n",
    "\n",
    "    if invalid_rows:\n",
    "        print(\"Invalid 'Exit Date' found in the following row(s):\")\n",
    "        for row in invalid_rows:\n",
    "            print(f\"Row {row}: {df.loc[row, 'Exit Date']}\")\n",
    "    else:\n",
    "        print(\"All 'Exit Date' values are valid (including 'Still Working').\")\n",
    "\n",
    "\n",
    "check_exit_date_validity(dsc)\n",
    "print(dsc['Exit Date'].head())"
   ]
  },
  {
   "cell_type": "code",
   "execution_count": 19,
   "id": "ab5cd1fe-eabf-46df-a758-a6b1251ba6eb",
   "metadata": {},
   "outputs": [
    {
     "name": "stdout",
     "output_type": "stream",
     "text": [
      "All Exit Dates are valid and later than Hire Dates.\n"
     ]
    }
   ],
   "source": [
    "#Check if Column Exit Date is eariler or larger than Exit Date.\n",
    "#Note that the function Assume that are dates are vaild.\n",
    "#We do this after we check if all dates are vaild or not. \n",
    "def check_exit_date_after_hire_date(df):\n",
    "    invalid_rows = []\n",
    "\n",
    "    for index, row in df.iterrows():\n",
    "        hire_date = pd.to_datetime(row['Hire Date'])\n",
    "\n",
    "        exit_date = row['Exit Date']\n",
    "        # Skip if employee is still working\n",
    "        if isinstance(exit_date, str) and exit_date.strip().lower() == \"still working\":\n",
    "            continue\n",
    "\n",
    "        exit_date = pd.to_datetime(exit_date)\n",
    "\n",
    "        if exit_date < hire_date:\n",
    "            invalid_rows.append(index)\n",
    "\n",
    "    if invalid_rows:\n",
    "        print(\"Exit Date is earlier than Hire Date in the following row(s):\")\n",
    "        for row in invalid_rows:\n",
    "            print(f\"Row {row}: Hire Date = {df.loc[row, 'Hire Date']} | Exit Date = {df.loc[row, 'Exit Date']}\")\n",
    "    else:\n",
    "        print(\"All Exit Dates are valid and later than Hire Dates.\")\n",
    "        \n",
    "check_exit_date_after_hire_date(dsc)"
   ]
  },
  {
   "cell_type": "code",
   "execution_count": 20,
   "id": "3359a309-4370-4e53-ac46-262fc496fa06",
   "metadata": {},
   "outputs": [
    {
     "name": "stdout",
     "output_type": "stream",
     "text": [
      "   EEID        Full Name\n",
      "0  E001      Emily Davis\n",
      "1  E002    Theodore Dinh\n",
      "2  E003     Luna Sanders\n",
      "3  E004  Penelope Jordan\n",
      "4  E005        Austin Vo\n"
     ]
    }
   ],
   "source": [
    "#Column 0: EEID. (Because it must be uinque)\n",
    "# Get the number of rows in the DataFrame\n",
    "n = len(dsc)\n",
    "\n",
    "# Generate new EEIDs starting from E001, E002, ...\n",
    "dsc['EEID'] = ['E' + str(i).zfill(3) for i in range(1, n + 1)]\n",
    "\n",
    "# Display first few rows to confirm\n",
    "print(dsc[['EEID', 'Full Name']].head())\n"
   ]
  },
  {
   "cell_type": "code",
   "execution_count": 21,
   "id": "a5c5e482-fe63-4d18-a9a4-1e53095adc51",
   "metadata": {},
   "outputs": [
    {
     "name": "stdout",
     "output_type": "stream",
     "text": [
      "0    59.0\n",
      "1    63.0\n",
      "2    54.0\n",
      "3    30.0\n",
      "4    59.0\n",
      "Name: Age, dtype: float64\n"
     ]
    }
   ],
   "source": [
    "#Column 7: Age. (Because this report from 2021).\n",
    "dsc['Age'] = dsc['Age'] + 4\n",
    "# Display the updated dataframe info and the first few rows to verify\n",
    "print(dsc['Age'].head())"
   ]
  },
  {
   "cell_type": "code",
   "execution_count": 22,
   "id": "3a519c07-432f-4323-a95a-a0c8f6ddb59c",
   "metadata": {},
   "outputs": [
    {
     "name": "stdout",
     "output_type": "stream",
     "text": [
      "There are no duplicate values.\n"
     ]
    }
   ],
   "source": [
    "#Finally, Check the duplicate value again with out, column EEID.\n",
    "\n",
    "duplicates = dsc.drop('EEID', axis=1).duplicated()\n",
    "\n",
    "# If no duplicates are found, print a message indicating no duplicates\n",
    "if not duplicates.any():\n",
    "    print(\"There are no duplicate values.\")\n",
    "else:\n",
    "    print(duplicates)"
   ]
  },
  {
   "cell_type": "code",
   "execution_count": 23,
   "id": "e6339e7c-1ed1-47fa-8c75-122ce8c2997a",
   "metadata": {},
   "outputs": [
    {
     "name": "stdout",
     "output_type": "stream",
     "text": [
      "   EEID       Full Name             Job Title   Department  \\\n",
      "0  E001  Mohammad Baker  Data and AI Engineer           IT   \n",
      "1  E002      Sara Ahmed    Software Developer  Engineering   \n",
      "2  E003      Ali Hassan       Systems Analyst           IT   \n",
      "3  E004   Layla Youssef        UI/UX Designer       Design   \n",
      "4  E005     Omar Nasser        Cloud Engineer       DevOps   \n",
      "\n",
      "            Business Unit  Gender       Ethnicity   Age   Hire Date  \\\n",
      "0  Research & Development    Male           Asian  24.0  2025-01-01   \n",
      "1              Technology  Female  Middle Eastern  27.0  2022-08-15   \n",
      "2          Infrastructure    Male  Middle Eastern  31.0  2021-04-10   \n",
      "3                 Product  Female         African  29.0  2020-12-05   \n",
      "4          Cloud Services    Male           Asian  26.0  2023-03-20   \n",
      "\n",
      "   Annual Salary Bonus % Country   City      Exit Date  \n",
      "0         1500.0     15%  Jordan  Amman  Still Working  \n",
      "1         2200.0     10%  Jordan  Zarqa     2024-11-01  \n",
      "2         1800.0      8%  Jordan  Irbid  Still Working  \n",
      "3         2000.0     12%  Jordan  Amman     2023-06-30  \n",
      "4         2100.0      9%  Jordan  Aqaba  Still Working  \n"
     ]
    }
   ],
   "source": [
    "#Step 5: Change first Five Rows Using for Loop and Input Function:\n",
    "\n",
    "#Method 1: Using Input Fucntion to change values Manually.\n",
    "'''\n",
    "for i in range(5):\n",
    "    print(f\"Current values in row {i}: {dsc.iloc[i]}\")  # Print the current row values\n",
    "    for col in dsc.columns:  # Iterate over each column\n",
    "        new_value = input(f\"Enter new value for '{col}' in row {i}: \")\n",
    "        dsc.at[i, col] = new_value  # Update the value for the current cell\n",
    "'''\n",
    "\n",
    "#Method 2: For Simplicity using Dictionray. \n",
    "row1 = {\n",
    "    'EEID': 'E001',\n",
    "    'Full Name': 'Mohammad Baker',\n",
    "    'Job Title': 'Data and AI Engineer',\n",
    "    'Department': 'IT',\n",
    "    'Business Unit': 'Research & Development',\n",
    "    'Gender': 'Male',\n",
    "    'Ethnicity': 'Asian',\n",
    "    'Age': 24.0,\n",
    "    'Hire Date': '2025-01-01',\n",
    "    'Annual Salary': 1500.0,\n",
    "    'Bonus %': '15%',\n",
    "    'Country': 'Jordan',\n",
    "    'City': 'Amman',\n",
    "    'Exit Date': 'Still Working'\n",
    "}\n",
    "\n",
    "row2 = {\n",
    "    'EEID': 'E002',\n",
    "    'Full Name': 'Sara Ahmed',\n",
    "    'Job Title': 'Software Developer',\n",
    "    'Department': 'Engineering',\n",
    "    'Business Unit': 'Technology',\n",
    "    'Gender': 'Female',\n",
    "    'Ethnicity': 'Middle Eastern',\n",
    "    'Age': 27.0,\n",
    "    'Hire Date': '2022-08-15',\n",
    "    'Annual Salary': 2200.0,\n",
    "    'Bonus %':'10%',\n",
    "    'Country': 'Jordan',\n",
    "    'City': 'Zarqa',\n",
    "    'Exit Date': '2024-11-01'\n",
    "}\n",
    "\n",
    "row3 = {\n",
    "    'EEID': 'E003',\n",
    "    'Full Name': 'Ali Hassan',\n",
    "    'Job Title': 'Systems Analyst',\n",
    "    'Department': 'IT',\n",
    "    'Business Unit': 'Infrastructure',\n",
    "    'Gender': 'Male',\n",
    "    'Ethnicity': 'Middle Eastern',\n",
    "    'Age': 31.0,\n",
    "    'Hire Date': '2021-04-10',\n",
    "    'Annual Salary': 1800.0,\n",
    "    'Bonus %': '8%',\n",
    "    'Country': 'Jordan',\n",
    "    'City': 'Irbid',\n",
    "    'Exit Date': 'Still Working'\n",
    "}\n",
    "\n",
    "row4 = {\n",
    "    'EEID': 'E004',\n",
    "    'Full Name': 'Layla Youssef',\n",
    "    'Job Title': 'UI/UX Designer',\n",
    "    'Department': 'Design',\n",
    "    'Business Unit': 'Product',\n",
    "    'Gender': 'Female',\n",
    "    'Ethnicity': 'African',\n",
    "    'Age': 29.0,\n",
    "    'Hire Date': '2020-12-05',\n",
    "    'Annual Salary': 2000.0,\n",
    "    'Bonus %': '12%',\n",
    "    'Country': 'Jordan',\n",
    "    'City': 'Amman',\n",
    "    'Exit Date': '2023-06-30'\n",
    "}\n",
    "\n",
    "row5 = {\n",
    "    'EEID': 'E005',\n",
    "    'Full Name': 'Omar Nasser',\n",
    "    'Job Title': 'Cloud Engineer',\n",
    "    'Department': 'DevOps',\n",
    "    'Business Unit': 'Cloud Services',\n",
    "    'Gender': 'Male',\n",
    "    'Ethnicity': 'Asian',\n",
    "    'Age': 26.0,\n",
    "    'Hire Date': '2023-03-20',\n",
    "    'Annual Salary': 2100.0,\n",
    "    'Bonus %': '9%',\n",
    "    'Country': 'Jordan',\n",
    "    'City': 'Aqaba',\n",
    "    'Exit Date': 'Still Working'\n",
    "}\n",
    "custom_rows = pd.DataFrame([row1, row2, row3, row4, row5])\n",
    "\n",
    "# Reset the index to match the first 5 rows\n",
    "custom_rows.index = dsc.index[:5]\n",
    "\n",
    "# Replace the first 5 rows with the custom ones\n",
    "dsc.loc[dsc.index[:5]] = custom_rows\n",
    "\n",
    "# Print the updated DataFrame\n",
    "print(dsc.head())\n",
    "\n",
    "#Note if you want to test Method 1, Remove the Comment on it and Make a comment in Method 2.\n"
   ]
  },
  {
   "cell_type": "code",
   "execution_count": 24,
   "id": "ccee4fcf-8d8d-4e44-b2b1-567492f83e04",
   "metadata": {},
   "outputs": [
    {
     "name": "stdout",
     "output_type": "stream",
     "text": [
      "     EEID     Full Name       Job Title Department  Business Unit  Gender  \\\n",
      "989  E978  Raelynn Rios  Vice President      Sales  Manufacturing  Female   \n",
      "\n",
      "    Ethnicity   Age   Hire Date  Annual Salary Bonus %        Country  \\\n",
      "989    Latino  47.0  2016-08-21       258498.0    35%   United States   \n",
      "\n",
      "         City      Exit Date  \n",
      "989  Columbus  Still Working  \n"
     ]
    }
   ],
   "source": [
    "#Step 6: Find the Largest Salary. \n",
    "\n",
    "dsc['Annual Salary'] = pd.to_numeric(dsc['Annual Salary'], errors='coerce')\n",
    "\n",
    "# Assuming the 'Annual Salary' column exists in the DataFrame 'dsc'\n",
    "row_with_largest_salary = dsc.loc[dsc['Annual Salary'].idxmax()]\n",
    "\n",
    "# Convert to DataFrame to display it in a structured table format similar to 'head()'\n",
    "largest_salary_df = pd.DataFrame([row_with_largest_salary])\n",
    "\n",
    "# Print the row with the largest salary\n",
    "print(largest_salary_df)\n"
   ]
  },
  {
   "cell_type": "code",
   "execution_count": 25,
   "id": "9ff141a0-8116-4711-a8af-77b30b6330fa",
   "metadata": {},
   "outputs": [
    {
     "name": "stdout",
     "output_type": "stream",
     "text": [
      "                 average_age  average_salary\n",
      "Department                                  \n",
      "Accounting         47.656250   123146.947917\n",
      "Design             29.000000     2000.000000\n",
      "DevOps             26.000000     2100.000000\n",
      "Engineering        49.611465   108159.159873\n",
      "Finance            49.085470   123105.017094\n",
      "Human Resources    48.398374   118216.843089\n",
      "IT                 48.072650    96668.106838\n",
      "Marketing          47.216667   129663.033333\n",
      "Sales              47.604317   111225.338129\n"
     ]
    }
   ],
   "source": [
    "#Step 7: Group 1.\n",
    "dsc['Age'] = pd.to_numeric(dsc['Age'], errors='coerce')\n",
    "dsc['Annual Salary'] = pd.to_numeric(dsc['Annual Salary'], errors='coerce')\n",
    "\n",
    "average_by_department = dsc.groupby('Department').agg(\n",
    "    average_age=('Age', 'mean'),\n",
    "    average_salary=('Annual Salary', 'mean')\n",
    ")\n",
    "\n",
    "# Print the result\n",
    "print(average_by_department)"
   ]
  },
  {
   "cell_type": "code",
   "execution_count": 26,
   "id": "f5b9f071-63d6-4022-9a12-aa5a02398a2a",
   "metadata": {},
   "outputs": [
    {
     "name": "stdout",
     "output_type": "stream",
     "text": [
      "                                max_age  min_age  median_salary\n",
      "Department      Ethnicity                                      \n",
      "Accounting      Asian              68.0     29.0       114893.0\n",
      "                Black              55.0     34.0        91853.0\n",
      "                Caucasian          66.0     30.0       121159.5\n",
      "                Latino             66.0     30.0        92317.0\n",
      "Design          African            29.0     29.0         2000.0\n",
      "DevOps          Asian              26.0     26.0         2100.0\n",
      "Engineering     Asian              69.0     29.0        91230.0\n",
      "                Black              60.0     31.0        74412.0\n",
      "                Caucasian          68.0     29.0        95639.0\n",
      "                Latino             68.0     31.0        96818.0\n",
      "                Middle Eastern     27.0     27.0         2200.0\n",
      "Finance         Asian              68.0     29.0       125730.0\n",
      "                Black              69.0     29.0       131652.0\n",
      "                Caucasian          68.0     29.0        98946.0\n",
      "                Latino             69.0     29.0       122829.0\n",
      "Human Resources Asian              68.0     29.0       125871.5\n",
      "                Black              59.0     29.0       142318.0\n",
      "                Caucasian          68.0     30.0       104162.0\n",
      "                Latino             69.0     33.0       101985.0\n",
      "IT              Asian              69.0     24.0        89494.0\n",
      "                Black              65.0     32.0        73317.0\n",
      "                Caucasian          69.0     30.0        81069.5\n",
      "                Latino             68.0     29.0        83403.0\n",
      "                Middle Eastern     31.0     31.0         1800.0\n",
      "Marketing       Asian              69.0     29.0       147752.0\n",
      "                Black              69.0     31.0        86075.5\n",
      "                Caucasian          69.0     29.0       113135.0\n",
      "                Latino             69.0     33.0        97063.5\n",
      "Sales           Asian              68.0     29.0        89528.5\n",
      "                Black              69.0     30.0        94246.0\n",
      "                Caucasian          67.0     30.0        96092.0\n",
      "                Latino             65.0     30.0       113269.0\n"
     ]
    }
   ],
   "source": [
    "#Step 8: Group 2.\n",
    "\n",
    "# Group by 'Department' and 'Ethnicity', and calculate max age, min age, and median salary\n",
    "grouped_by_dept_ethnicity = dsc.groupby(['Department', 'Ethnicity']).agg(\n",
    "    max_age=('Age', 'max'),\n",
    "    min_age=('Age', 'min'),\n",
    "    median_salary=('Annual Salary', 'median')\n",
    ")\n",
    "\n",
    "# Print the result\n",
    "print(grouped_by_dept_ethnicity)"
   ]
  },
  {
   "cell_type": "code",
   "execution_count": 27,
   "id": "eafb5876-63da-4ef0-b2c0-ad739c59e26c",
   "metadata": {},
   "outputs": [
    {
     "name": "stdout",
     "output_type": "stream",
     "text": [
      "Excel file saved successfully at: C:\\Users\\hp.DESKTOP-FHME33G\\Desktop\\final_employee_data.xlsx\n"
     ]
    }
   ],
   "source": [
    "#Step 9: Save the Work as Excel File\n",
    "\n",
    "# Assuming `dsc`, `average_by_department`, and `grouped_by_dept_ethnicity` are already created and cleaned\n",
    "# Define the path where you want to save the Excel file\n",
    "output_path = \"C:\\\\Users\\\\hp.DESKTOP-FHME33G\\\\Desktop\\\\final_employee_data.xlsx\"\n",
    "\n",
    "# Create a writer and write each DataFrame to a different sheet\n",
    "with pd.ExcelWriter(output_path, engine='openpyxl') as writer:\n",
    "    dsc.to_excel(writer, sheet_name='Cleaned Data', index=False)\n",
    "    average_by_department.to_excel(writer, sheet_name='Department Grouping')\n",
    "    grouped_by_dept_ethnicity.to_excel(writer, sheet_name='Dept & Ethnicity Grouping')\n",
    "\n",
    "print(f\"Excel file saved successfully at: {output_path}\")\n"
   ]
  },
  {
   "cell_type": "code",
   "execution_count": 28,
   "id": "66f0f0cc-6ecf-46ed-90b8-749fc20c5c2d",
   "metadata": {},
   "outputs": [
    {
     "name": "stdout",
     "output_type": "stream",
     "text": [
      "CSV files saved successfully at your Desktop.\n"
     ]
    }
   ],
   "source": [
    "#Step 10: Save the Work as CSV File\n",
    "\n",
    "\n",
    "# Define base path where the files will be saved\n",
    "base_path = \"C:\\\\Users\\\\hp.DESKTOP-FHME33G\\\\Desktop\\\\\"\n",
    "\n",
    "# Save each DataFrame to a separate CSV file\n",
    "dsc.to_csv(base_path + \"cleaned_data.csv\", index=False)\n",
    "average_by_department.to_csv(base_path + \"department_grouping.csv\")\n",
    "grouped_by_dept_ethnicity.to_csv(base_path + \"dept_ethnicity_grouping.csv\")\n",
    "\n",
    "print(\"CSV files saved successfully at your Desktop.\")\n",
    "\n"
   ]
  }
 ],
 "metadata": {
  "kernelspec": {
   "display_name": "Python 3 (ipykernel)",
   "language": "python",
   "name": "python3"
  },
  "language_info": {
   "codemirror_mode": {
    "name": "ipython",
    "version": 3
   },
   "file_extension": ".py",
   "mimetype": "text/x-python",
   "name": "python",
   "nbconvert_exporter": "python",
   "pygments_lexer": "ipython3",
   "version": "3.13.2"
  }
 },
 "nbformat": 4,
 "nbformat_minor": 5
}
